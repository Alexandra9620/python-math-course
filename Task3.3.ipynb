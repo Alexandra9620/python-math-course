{
  "nbformat": 4,
  "nbformat_minor": 0,
  "metadata": {
    "colab": {
      "name": "Untitled1.ipynb",
      "provenance": [],
      "collapsed_sections": [],
      "authorship_tag": "ABX9TyOAHQotq/w8VXorYVMjdexv"
    },
    "kernelspec": {
      "name": "python3",
      "display_name": "Python 3"
    }
  },
  "cells": [
    {
      "cell_type": "code",
      "metadata": {
        "id": "Zx6_MLFTg6eF"
      },
      "source": [
        "%matplotlib inline\r\n",
        "\r\n",
        "import numpy as np\r\n",
        "import matplotlib.pyplot as plt\r\n",
        "import math"
      ],
      "execution_count": 25,
      "outputs": []
    },
    {
      "cell_type": "code",
      "metadata": {
        "colab": {
          "base_uri": "https://localhost:8080/",
          "height": 297
        },
        "id": "2AxtCXvwrNeI",
        "outputId": "389cf221-5f05-4228-fd73-1379b2ab3ad3"
      },
      "source": [
        "x = []\r\n",
        "y1 = []\r\n",
        "y2 = []\r\n",
        "a = 5\r\n",
        "b = 4\r\n",
        "for i in range(-100, 101):\r\n",
        "    x_ = i / 100 * 10\r\n",
        "    y_ = ((x_ ** 2) / (a ** 2) - 1) * (b ** 2)\r\n",
        "\r\n",
        "    x.append(x_)\r\n",
        "    if y_ >= 0:\r\n",
        "        y1.append(math.sqrt(y_))\r\n",
        "        y2.append(-math.sqrt(y_))\r\n",
        "    else:\r\n",
        "        y1.append(None)\r\n",
        "        y2.append(None)\r\n",
        "\r\n",
        "plt.gca().set_aspect('equal', adjustable='box')\r\n",
        "plt.plot(x, y1)\r\n",
        "plt.plot(x, y2)\r\n",
        "plt.xlabel(\"x\")\r\n",
        "plt.ylabel(\"y\")\r\n"
      ],
      "execution_count": 69,
      "outputs": [
        {
          "output_type": "execute_result",
          "data": {
            "text/plain": [
              "Text(0, 0.5, 'y')"
            ]
          },
          "metadata": {
            "tags": []
          },
          "execution_count": 69
        },
        {
          "output_type": "display_data",
          "data": {
            "image/png": "[encoded data removed]",
            "text/plain": [
              "<Figure size 432x288 with 1 Axes>"
            ]
          },
          "metadata": {
            "tags": [],
            "needs_background": "light"
          }
        }
      ]
    }
  ]
}