{
  "nbformat": 4,
  "nbformat_minor": 0,
  "metadata": {
    "colab": {
      "name": "Untitled0(1).ipynb",
      "provenance": [],
      "collapsed_sections": []
    },
    "kernelspec": {
      "name": "python3",
      "display_name": "Python 3"
    }
  },
  "cells": [
    {
      "cell_type": "code",
      "metadata": {
        "id": "QvUFx5wXpTm8"
      },
      "source": [
        "#Напишите код, который будет переводить полярные координаты в декартовы.\r\n",
        "\r\n",
        "import math\r\n",
        "\r\n",
        "\r\n",
        "r = 5\r\n",
        "theta = math.pi * 2\r\n",
        "\r\n",
        "x = r * math.cos(theta)\r\n",
        "y = r * math.sin(theta)\r\n",
        "\r\n",
        "print(f\"x: {x}; y: {y}\")"
      ],
      "execution_count": null,
      "outputs": []
    },
    {
      "cell_type": "code",
      "metadata": {
        "id": "Gf1amWSArc73"
      },
      "source": [
        "#Напишите код, который будет рисовать график окружности в полярных координатах.\r\n",
        "\r\n",
        "import matplotlib\r\n",
        "import matplotlib.pyplot as plt\r\n",
        "import numpy as np\r\n",
        "import math\r\n",
        "\r\n",
        "\r\n",
        "theta = np.arange(0, math.pi * 2, 0.01)\r\n",
        "r = 10\r\n",
        "\r\n",
        "x = np.cos(theta) * r\r\n",
        "y = np.sin(theta) * r\r\n",
        "\r\n",
        "fig, ax = plt.subplots()\r\n",
        "ax.plot(x, y)\r\n",
        "ax.set(xlabel='x', ylabel='y', aspect=1)\r\n",
        "plt.show()"
      ],
      "execution_count": null,
      "outputs": []
    },
    {
      "cell_type": "code",
      "metadata": {
        "id": "0pDP6qPFsb-k"
      },
      "source": [
        "#Напишите код, который будет рисовать график отрезка прямой линии в полярных координатах.\r\n",
        "\r\n",
        "import matplotlib\r\n",
        "import matplotlib.pyplot as plt\r\n",
        "import numpy as np\r\n",
        "import math\r\n",
        "\r\n",
        "\r\n",
        "theta = np.arange(0, 1, 0.01)\r\n",
        "r = 6 / (3 * np.cos(theta) + 2 * np.sin(theta))\r\n",
        "\r\n",
        "x = np.cos(theta) * r\r\n",
        "y = np.sin(theta) * r\r\n",
        "\r\n",
        "fig, ax = plt.subplots()\r\n",
        "ax.plot(x, y)\r\n",
        "ax.set(xlabel='x', ylabel='y', aspect=1)\r\n",
        "plt.show()"
      ],
      "execution_count": null,
      "outputs": []
    }
  ]
}