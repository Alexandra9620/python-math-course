{
  "nbformat": 4,
  "nbformat_minor": 0,
  "metadata": {
    "colab": {
      "name": "Untitled10.ipynb",
      "provenance": [],
      "authorship_tag": "ABX9TyPD8AwjmsGHiWJO/Qsf9zXj"
    },
    "kernelspec": {
      "name": "python3",
      "display_name": "Python 3"
    }
  },
  "cells": [
    {
      "cell_type": "code",
      "metadata": {
        "colab": {
          "base_uri": "https://localhost:8080/"
        },
        "id": "I4OqeC1zN1Vv",
        "outputId": "81a35e52-6e8a-4ac8-b9db-a8b3242a8266"
      },
      "source": [
        "import math\r\n",
        "\r\n",
        "def check_intersection(x, y, alpha, b, a):\r\n",
        "  y1 = y\r\n",
        "  y2 = y + math.sin(math.radians(alpha)) * b\r\n",
        "\r\n",
        "  return math.floor(y1 / a) != math.floor(y2 / a)\r\n",
        "\r\n",
        "result = check_intersection(a = 10, b = 5, x = 0, y = 6, alpha = 45)\r\n",
        "if result:\r\n",
        "  print('Игла пересекает линию')\r\n",
        "else:\r\n",
        "  print('Игла не пересекает линию')"
      ],
      "execution_count": 1,
      "outputs": [
        {
          "output_type": "stream",
          "text": [
            "Игла не пересекает линию\n"
          ],
          "name": "stdout"
        }
      ]
    }
  ]
}