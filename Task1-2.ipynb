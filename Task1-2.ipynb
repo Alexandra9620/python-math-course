{
  "nbformat": 4,
  "nbformat_minor": 0,
  "metadata": {
    "colab": {
      "name": "Практическое задание к уроку 5.ipynb",
      "provenance": []
    },
    "kernelspec": {
      "name": "python3",
      "display_name": "Python 3"
    }
  },
  "cells": [
    {
      "cell_type": "code",
      "metadata": {
        "colab": {
          "base_uri": "https://localhost:8080/"
        },
        "id": "5ISdYdtf_qZ0",
        "outputId": "f50b2e39-3f4b-4fdc-d5cc-550041d16b24"
      },
      "source": [
        "# 1. Напишите код, моделирующий выпадение поля в рулетке (с учетом поля зеро).\r\n",
        "\r\n",
        "import random\r\n",
        "\r\n",
        "print(\"Выпало поле\", random.randrange(0, 37))"
      ],
      "execution_count": 3,
      "outputs": [
        {
          "output_type": "stream",
          "text": [
            "Выпало поле 8\n"
          ],
          "name": "stdout"
        }
      ]
    },
    {
      "cell_type": "code",
      "metadata": {
        "colab": {
          "base_uri": "https://localhost:8080/"
        },
        "id": "NreaREGyA5KC",
        "outputId": "b5675231-a1f6-48a2-bd61-b55142678ab8"
      },
      "source": [
        "# 2.1. Напишите код, проверяющий любую из теорем сложения или умножения вероятности на примере рулетки или подбрасывания монетки.\r\n",
        "\r\n",
        "import random\r\n",
        "\r\n",
        "k, m, a, b = 0, 0, 0, 0\r\n",
        "n = 100000\r\n",
        "\r\n",
        "for i in range(n):\r\n",
        "  result1 = random.randrange(0, 37)\r\n",
        "  result2 = random.randrange(0, 37)\r\n",
        "\r\n",
        "  if result1 == 0: \r\n",
        "    k += 1\r\n",
        "  if result2 == 5:\r\n",
        "    m += 1\r\n",
        "  if result1 == 0 and result2 == 5:\r\n",
        "    a += 1\r\n",
        "  if result1 == 5 and result2 == 0:\r\n",
        "    b += 1\r\n",
        "\r\n",
        "print(1/37, 1/37, (1/37)*(1/37), (1/37)*(1/37))\r\n",
        "print(k / n, m / n, a / n, b / n)"
      ],
      "execution_count": 1,
      "outputs": [
        {
          "output_type": "stream",
          "text": [
            "0.02702702702702703 0.02702702702702703 0.0007304601899196495 0.0007304601899196495\n",
            "0.02673 0.02794 0.00071 0.0009\n"
          ],
          "name": "stdout"
        }
      ]
    },
    {
      "cell_type": "code",
      "metadata": {
        "colab": {
          "base_uri": "https://localhost:8080/",
          "height": 265
        },
        "id": "KD-LrFpWDZqP",
        "outputId": "7964f32e-049a-45fa-8039-0e355a8555cb"
      },
      "source": [
        "# 2.2. Сгенерируйте десять выборок случайных чисел х0, …, х9. и постройте гистограмму распределения случайной суммы  +х1+ …+ х9.\r\n",
        "\r\n",
        "import random\r\n",
        "import numpy as np\r\n",
        "import matplotlib.mlab as mlab\r\n",
        "import matplotlib.pyplot as plt\r\n",
        "\r\n",
        "n = 2000\r\n",
        "x = np.random.rand(n)\r\n",
        "for i in range(9):\r\n",
        "  x += np.random.rand(n)\r\n",
        "\r\n",
        "num_bins = 20\r\n",
        "n, bins, patches = plt.hist(x, num_bins, facecolor='blue', alpha=0.5)\r\n",
        "plt.show()"
      ],
      "execution_count": 2,
      "outputs": [
        {
          "output_type": "display_data",
          "data": {
            "image/png": "[encoded data removed]",
            "text/plain": [
              "<Figure size 432x288 with 1 Axes>"
            ]
          },
          "metadata": {
            "tags": [],
            "needs_background": "light"
          }
        }
      ]
    }
  ]
}