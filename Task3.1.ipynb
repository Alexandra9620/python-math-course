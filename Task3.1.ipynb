{
  "nbformat": 4,
  "nbformat_minor": 0,
  "metadata": {
    "colab": {
      "name": "Untitled1.ipynb",
      "provenance": [],
      "collapsed_sections": [],
      "authorship_tag": "ABX9TyOYKLmsMukcb5JEc1p4Db9+"
    },
    "kernelspec": {
      "name": "python3",
      "display_name": "Python 3"
    }
  },
  "cells": [
    {
      "cell_type": "code",
      "metadata": {
        "id": "Zx6_MLFTg6eF"
      },
      "source": [
        "%matplotlib inline\r\n",
        "\r\n",
        "import numpy as np\r\n",
        "import matplotlib.pyplot as plt\r\n",
        "import math"
      ],
      "execution_count": 16,
      "outputs": []
    },
    {
      "cell_type": "code",
      "metadata": {
        "colab": {
          "base_uri": "https://localhost:8080/",
          "height": 297
        },
        "id": "2AxtCXvwrNeI",
        "outputId": "115b5a45-1216-45e0-f41c-2610f55becec"
      },
      "source": [
        "x = []\r\n",
        "y1 = []\r\n",
        "y2 = []\r\n",
        "r = 5\r\n",
        "for i in range(-100, 101):\r\n",
        "    x_ = i / 100 * r\r\n",
        "    x.append(x_)\r\n",
        "    y1.append(math.sqrt(r ** 2 - x_ ** 2))\r\n",
        "    y2.append(-math.sqrt(r ** 2 - x_ ** 2))\r\n",
        "plt.gca().set_aspect('equal', adjustable='box')\r\n",
        "plt.plot(x, y1)\r\n",
        "plt.plot(x, y2)\r\n",
        "plt.xlabel(\"x\")\r\n",
        "plt.ylabel(\"y\")\r\n"
      ],
      "execution_count": 38,
      "outputs": [
        {
          "output_type": "execute_result",
          "data": {
            "text/plain": [
              "Text(0, 0.5, 'y')"
            ]
          },
          "metadata": {
            "tags": []
          },
          "execution_count": 38
        },
        {
          "output_type": "display_data",
          "data": {
            "image/png": "[encoded data removed]",
            "text/plain": [
              "<Figure size 432x288 with 1 Axes>"
            ]
          },
          "metadata": {
            "tags": [],
            "needs_background": "light"
          }
        }
      ]
    }
  ]
}