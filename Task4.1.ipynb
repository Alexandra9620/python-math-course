{
  "nbformat": 4,
  "nbformat_minor": 0,
  "metadata": {
    "colab": {
      "name": "Untitled5.ipynb",
      "provenance": [],
      "authorship_tag": "ABX9TyNPCbQDInAXKDBZS94v4LUn"
    },
    "kernelspec": {
      "name": "python3",
      "display_name": "Python 3"
    }
  },
  "cells": [
    {
      "cell_type": "code",
      "metadata": {
        "id": "r5Y6I9fUR407"
      },
      "source": [
        "import matplotlib\r\n",
        "import matplotlib.pyplot as plt\r\n",
        "import numpy as np\r\n",
        "import math"
      ],
      "execution_count": 31,
      "outputs": []
    },
    {
      "cell_type": "code",
      "metadata": {
        "colab": {
          "base_uri": "https://localhost:8080/"
        },
        "id": "o3DFJ7p2R5vL",
        "outputId": "ab21a02d-d063-4935-adfa-3290113be95f"
      },
      "source": [
        "from scipy.optimize import fsolve\r\n",
        "\r\n",
        "def equations(p):\r\n",
        "    x, y = p\r\n",
        "    return ( y - x**2 + 1, np.exp(x) + x * (1 -y) - 1)\r\n",
        "\r\n",
        "x1, y1 =  fsolve(equations, (1, 1))\r\n",
        "              \r\n",
        "print(\"x1 = %0.2f, y1 = %0.2f\" % (x1, y1))"
      ],
      "execution_count": 33,
      "outputs": [
        {
          "output_type": "stream",
          "text": [
            "x1 = 0.00, y1 = -1.00\n"
          ],
          "name": "stdout"
        }
      ]
    }
  ]
}